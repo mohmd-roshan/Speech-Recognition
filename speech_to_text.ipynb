{
 "cells": [
  {
   "cell_type": "code",
   "execution_count": 10,
   "metadata": {},
   "outputs": [
    {
     "name": "stdout",
     "output_type": "stream",
     "text": [
      "speak.....\n",
      "hello\n"
     ]
    }
   ],
   "source": [
    "# pip install SpeechRecognition\n",
    "# pip install pyaudio\n",
    "\n",
    "import speech_recognition as sr\n",
    "\n",
    "def speech_rec():\n",
    "    r=sr.Recognizer()\n",
    "    mic=sr.Microphone()\n",
    "\n",
    "    with mic as source:\n",
    "        print('speak.....')\n",
    "        r.energy_threshold=7\n",
    "        r.adjust_for_ambient_noise(source,duration=1)\n",
    "        audio=r.listen(source)\n",
    "\n",
    "\n",
    "        try:\n",
    "            text=r.recognize_google(audio)\n",
    "\n",
    "            print(text)\n",
    "        except:\n",
    "            print('cant hear, pls speak again')\n",
    "speech_rec()"
   ]
  }
 ],
 "metadata": {
  "kernelspec": {
   "display_name": "Python 3",
   "language": "python",
   "name": "python3"
  },
  "language_info": {
   "codemirror_mode": {
    "name": "ipython",
    "version": 3
   },
   "file_extension": ".py",
   "mimetype": "text/x-python",
   "name": "python",
   "nbconvert_exporter": "python",
   "pygments_lexer": "ipython3",
   "version": "3.11.5"
  }
 },
 "nbformat": 4,
 "nbformat_minor": 2
}
